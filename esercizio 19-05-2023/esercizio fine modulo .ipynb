{
 "cells": [
  {
   "cell_type": "code",
   "execution_count": 12,
   "id": "4f5a4faa-5987-40fc-b100-ff81eb09df85",
   "metadata": {},
   "outputs": [
    {
     "name": "stderr",
     "output_type": "stream",
     "text": [
      "C:\\Users\\Alex-\\AppData\\Local\\Temp\\ipykernel_23968\\16697565.py:4: DtypeWarning: Columns (33) have mixed types. Specify dtype option on import or set low_memory=False.\n",
      "  dataset = pd.read_csv(dataset_csv)\n"
     ]
    }
   ],
   "source": [
    "import pandas as pd\n",
    "\n",
    "dataset_csv = \"covid-data.csv\"\n",
    "dataset = pd.read_csv(dataset_csv)\n"
   ]
  },
  {
   "cell_type": "code",
   "execution_count": 11,
   "id": "72e82bd0-e99a-4da2-b718-8b5ea3693807",
   "metadata": {},
   "outputs": [
    {
     "name": "stdout",
     "output_type": "stream",
     "text": [
      "Dimensioni del dataset: 311417 righe x 67 colonne\n",
      "Intestazione del dataset: ['iso_code', 'continent', 'location', 'date', 'total_cases', 'new_cases', 'new_cases_smoothed', 'total_deaths', 'new_deaths', 'new_deaths_smoothed', 'total_cases_per_million', 'new_cases_per_million', 'new_cases_smoothed_per_million', 'total_deaths_per_million', 'new_deaths_per_million', 'new_deaths_smoothed_per_million', 'reproduction_rate', 'icu_patients', 'icu_patients_per_million', 'hosp_patients', 'hosp_patients_per_million', 'weekly_icu_admissions', 'weekly_icu_admissions_per_million', 'weekly_hosp_admissions', 'weekly_hosp_admissions_per_million', 'total_tests', 'new_tests', 'total_tests_per_thousand', 'new_tests_per_thousand', 'new_tests_smoothed', 'new_tests_smoothed_per_thousand', 'positive_rate', 'tests_per_case', 'tests_units', 'total_vaccinations', 'people_vaccinated', 'people_fully_vaccinated', 'total_boosters', 'new_vaccinations', 'new_vaccinations_smoothed', 'total_vaccinations_per_hundred', 'people_vaccinated_per_hundred', 'people_fully_vaccinated_per_hundred', 'total_boosters_per_hundred', 'new_vaccinations_smoothed_per_million', 'new_people_vaccinated_smoothed', 'new_people_vaccinated_smoothed_per_hundred', 'stringency_index', 'population_density', 'median_age', 'aged_65_older', 'aged_70_older', 'gdp_per_capita', 'extreme_poverty', 'cardiovasc_death_rate', 'diabetes_prevalence', 'female_smokers', 'male_smokers', 'handwashing_facilities', 'hospital_beds_per_thousand', 'life_expectancy', 'human_development_index', 'population', 'excess_mortality_cumulative_absolute', 'excess_mortality_cumulative', 'excess_mortality', 'excess_mortality_cumulative_per_million']\n"
     ]
    }
   ],
   "source": [
    "# Dimensioni del dataset\n",
    "num_rows, num_columns = dataset.shape\n",
    "print(\"Dimensioni del dataset: {} righe x {} colonne\".format(num_rows, num_columns))\n",
    "\n",
    "# Intestazione del dataset\n",
    "header = dataset.columns.tolist()\n",
    "print(\"Intestazione del dataset:\", header)\n"
   ]
  },
  {
   "cell_type": "code",
   "execution_count": 10,
   "id": "b998ede0-180e-4d72-99ca-87bec102033f",
   "metadata": {},
   "outputs": [
    {
     "name": "stdout",
     "output_type": "stream",
     "text": [
      "Casi totali per continente:\n",
      "continent\n",
      "Africa           8.812017e+09\n",
      "Asia             1.196259e+11\n",
      "Europe           1.260114e+11\n",
      "North America    7.199848e+10\n",
      "Oceania          5.110476e+09\n",
      "South America    4.311459e+10\n",
      "Name: total_cases, dtype: float64\n"
     ]
    }
   ],
   "source": [
    "cases_per_continent = dataset[dataset['continent'].notnull()].groupby('continent')['total_cases'].sum()\n",
    "print(\"Casi totali per continente:\")\n",
    "print(cases_per_continent)\n"
   ]
  },
  {
   "cell_type": "code",
   "execution_count": 9,
   "id": "09ea4283-b5ba-4556-acd6-5ab6719b5200",
   "metadata": {},
   "outputs": [
    {
     "ename": "KeyError",
     "evalue": "'count'",
     "output_type": "error",
     "traceback": [
      "\u001b[1;31m---------------------------------------------------------------------------\u001b[0m",
      "\u001b[1;31mKeyError\u001b[0m                                  Traceback (most recent call last)",
      "File \u001b[1;32m~\\anaconda3\\lib\\site-packages\\pandas\\core\\indexes\\base.py:3802\u001b[0m, in \u001b[0;36mIndex.get_loc\u001b[1;34m(self, key, method, tolerance)\u001b[0m\n\u001b[0;32m   3801\u001b[0m \u001b[38;5;28;01mtry\u001b[39;00m:\n\u001b[1;32m-> 3802\u001b[0m     \u001b[38;5;28;01mreturn\u001b[39;00m \u001b[38;5;28;43mself\u001b[39;49m\u001b[38;5;241;43m.\u001b[39;49m\u001b[43m_engine\u001b[49m\u001b[38;5;241;43m.\u001b[39;49m\u001b[43mget_loc\u001b[49m\u001b[43m(\u001b[49m\u001b[43mcasted_key\u001b[49m\u001b[43m)\u001b[49m\n\u001b[0;32m   3803\u001b[0m \u001b[38;5;28;01mexcept\u001b[39;00m \u001b[38;5;167;01mKeyError\u001b[39;00m \u001b[38;5;28;01mas\u001b[39;00m err:\n",
      "File \u001b[1;32m~\\anaconda3\\lib\\site-packages\\pandas\\_libs\\index.pyx:138\u001b[0m, in \u001b[0;36mpandas._libs.index.IndexEngine.get_loc\u001b[1;34m()\u001b[0m\n",
      "File \u001b[1;32m~\\anaconda3\\lib\\site-packages\\pandas\\_libs\\index.pyx:165\u001b[0m, in \u001b[0;36mpandas._libs.index.IndexEngine.get_loc\u001b[1;34m()\u001b[0m\n",
      "File \u001b[1;32mpandas\\_libs\\hashtable_class_helper.pxi:5745\u001b[0m, in \u001b[0;36mpandas._libs.hashtable.PyObjectHashTable.get_item\u001b[1;34m()\u001b[0m\n",
      "File \u001b[1;32mpandas\\_libs\\hashtable_class_helper.pxi:5753\u001b[0m, in \u001b[0;36mpandas._libs.hashtable.PyObjectHashTable.get_item\u001b[1;34m()\u001b[0m\n",
      "\u001b[1;31mKeyError\u001b[0m: 'count'",
      "\nThe above exception was the direct cause of the following exception:\n",
      "\u001b[1;31mKeyError\u001b[0m                                  Traceback (most recent call last)",
      "Cell \u001b[1;32mIn[9], line 14\u001b[0m\n\u001b[0;32m     12\u001b[0m continent1 \u001b[38;5;241m=\u001b[39m \u001b[38;5;124m'\u001b[39m\u001b[38;5;124mEurope\u001b[39m\u001b[38;5;124m'\u001b[39m\n\u001b[0;32m     13\u001b[0m continent2 \u001b[38;5;241m=\u001b[39m \u001b[38;5;124m'\u001b[39m\u001b[38;5;124mSouth America\u001b[39m\u001b[38;5;124m'\u001b[39m\n\u001b[1;32m---> 14\u001b[0m cases_statistics \u001b[38;5;241m=\u001b[39m \u001b[43mcompare_cases_statistics\u001b[49m\u001b[43m(\u001b[49m\u001b[43mdataset\u001b[49m\u001b[43m,\u001b[49m\u001b[43m \u001b[49m\u001b[43mcontinent1\u001b[49m\u001b[43m,\u001b[49m\u001b[43m \u001b[49m\u001b[43mcontinent2\u001b[49m\u001b[43m)\u001b[49m\n\u001b[0;32m     15\u001b[0m \u001b[38;5;28mprint\u001b[39m(\u001b[38;5;124m\"\u001b[39m\u001b[38;5;124mStatistiche dei casi totali per\u001b[39m\u001b[38;5;124m\"\u001b[39m, continent1, \u001b[38;5;124m\"\u001b[39m\u001b[38;5;124me\u001b[39m\u001b[38;5;124m\"\u001b[39m, continent2, \u001b[38;5;124m\"\u001b[39m\u001b[38;5;124m:\u001b[39m\u001b[38;5;124m\"\u001b[39m)\n\u001b[0;32m     16\u001b[0m \u001b[38;5;28mprint\u001b[39m(cases_statistics)\n",
      "Cell \u001b[1;32mIn[9], line 8\u001b[0m, in \u001b[0;36mcompare_cases_statistics\u001b[1;34m(dataset, continent1, continent2)\u001b[0m\n\u001b[0;32m      6\u001b[0m \u001b[38;5;66;03m# Calcolo delle percentuali rispetto al numero totale di casi nel mondo\u001b[39;00m\n\u001b[0;32m      7\u001b[0m world_total_cases \u001b[38;5;241m=\u001b[39m dataset[\u001b[38;5;124m'\u001b[39m\u001b[38;5;124mtotal_cases\u001b[39m\u001b[38;5;124m'\u001b[39m]\u001b[38;5;241m.\u001b[39msum()\n\u001b[1;32m----> 8\u001b[0m statistics[\u001b[38;5;124m'\u001b[39m\u001b[38;5;124mPercentage of World Cases\u001b[39m\u001b[38;5;124m'\u001b[39m] \u001b[38;5;241m=\u001b[39m (\u001b[43mstatistics\u001b[49m\u001b[43m[\u001b[49m\u001b[38;5;124;43m'\u001b[39;49m\u001b[38;5;124;43mcount\u001b[39;49m\u001b[38;5;124;43m'\u001b[39;49m\u001b[43m]\u001b[49m \u001b[38;5;241m/\u001b[39m world_total_cases) \u001b[38;5;241m*\u001b[39m \u001b[38;5;241m100\u001b[39m\n\u001b[0;32m     10\u001b[0m \u001b[38;5;28;01mreturn\u001b[39;00m statistics\n",
      "File \u001b[1;32m~\\anaconda3\\lib\\site-packages\\pandas\\core\\frame.py:3807\u001b[0m, in \u001b[0;36mDataFrame.__getitem__\u001b[1;34m(self, key)\u001b[0m\n\u001b[0;32m   3805\u001b[0m \u001b[38;5;28;01mif\u001b[39;00m \u001b[38;5;28mself\u001b[39m\u001b[38;5;241m.\u001b[39mcolumns\u001b[38;5;241m.\u001b[39mnlevels \u001b[38;5;241m>\u001b[39m \u001b[38;5;241m1\u001b[39m:\n\u001b[0;32m   3806\u001b[0m     \u001b[38;5;28;01mreturn\u001b[39;00m \u001b[38;5;28mself\u001b[39m\u001b[38;5;241m.\u001b[39m_getitem_multilevel(key)\n\u001b[1;32m-> 3807\u001b[0m indexer \u001b[38;5;241m=\u001b[39m \u001b[38;5;28;43mself\u001b[39;49m\u001b[38;5;241;43m.\u001b[39;49m\u001b[43mcolumns\u001b[49m\u001b[38;5;241;43m.\u001b[39;49m\u001b[43mget_loc\u001b[49m\u001b[43m(\u001b[49m\u001b[43mkey\u001b[49m\u001b[43m)\u001b[49m\n\u001b[0;32m   3808\u001b[0m \u001b[38;5;28;01mif\u001b[39;00m is_integer(indexer):\n\u001b[0;32m   3809\u001b[0m     indexer \u001b[38;5;241m=\u001b[39m [indexer]\n",
      "File \u001b[1;32m~\\anaconda3\\lib\\site-packages\\pandas\\core\\indexes\\base.py:3804\u001b[0m, in \u001b[0;36mIndex.get_loc\u001b[1;34m(self, key, method, tolerance)\u001b[0m\n\u001b[0;32m   3802\u001b[0m     \u001b[38;5;28;01mreturn\u001b[39;00m \u001b[38;5;28mself\u001b[39m\u001b[38;5;241m.\u001b[39m_engine\u001b[38;5;241m.\u001b[39mget_loc(casted_key)\n\u001b[0;32m   3803\u001b[0m \u001b[38;5;28;01mexcept\u001b[39;00m \u001b[38;5;167;01mKeyError\u001b[39;00m \u001b[38;5;28;01mas\u001b[39;00m err:\n\u001b[1;32m-> 3804\u001b[0m     \u001b[38;5;28;01mraise\u001b[39;00m \u001b[38;5;167;01mKeyError\u001b[39;00m(key) \u001b[38;5;28;01mfrom\u001b[39;00m \u001b[38;5;21;01merr\u001b[39;00m\n\u001b[0;32m   3805\u001b[0m \u001b[38;5;28;01mexcept\u001b[39;00m \u001b[38;5;167;01mTypeError\u001b[39;00m:\n\u001b[0;32m   3806\u001b[0m     \u001b[38;5;66;03m# If we have a listlike key, _check_indexing_error will raise\u001b[39;00m\n\u001b[0;32m   3807\u001b[0m     \u001b[38;5;66;03m#  InvalidIndexError. Otherwise we fall through and re-raise\u001b[39;00m\n\u001b[0;32m   3808\u001b[0m     \u001b[38;5;66;03m#  the TypeError.\u001b[39;00m\n\u001b[0;32m   3809\u001b[0m     \u001b[38;5;28mself\u001b[39m\u001b[38;5;241m.\u001b[39m_check_indexing_error(key)\n",
      "\u001b[1;31mKeyError\u001b[0m: 'count'"
     ]
    }
   ],
   "source": [
    "def compare_cases_statistics(dataset, continent1, continent2):\n",
    "    continent1_cases = dataset[dataset['continent'] == continent1]['total_cases']\n",
    "    continent2_cases = dataset[dataset['continent'] == continent2]['total_cases']\n",
    "    statistics = pd.DataFrame({continent1: continent1_cases.describe(),continent2: continent2_cases.describe(),})\n",
    "\n",
    "    # Calcolo delle percentuali rispetto al numero totale di casi nel mondo\n",
    "    world_total_cases = dataset['total_cases'].sum()\n",
    "    statistics['Percentage of World Cases'] = (statistics['count'] / world_total_cases) * 100\n",
    "\n",
    "    return statistics\n",
    "\n",
    "continent1 = 'Europe'\n",
    "continent2 = 'South America'\n",
    "cases_statistics = compare_cases_statistics(dataset, continent1, continent2)\n",
    "print(\"Statistiche dei casi totali per\", continent1, \"e\", continent2, \":\")\n",
    "print(cases_statistics)\n"
   ]
  },
  {
   "cell_type": "code",
   "execution_count": 8,
   "id": "11d2e11d-9b29-410d-abe5-113dad56be0a",
   "metadata": {},
   "outputs": [
    {
     "name": "stdout",
     "output_type": "stream",
     "text": [
      "Vaccinazioni totali per continente:\n",
      "continent\n",
      "Africa           4.914052e+10\n",
      "Asia             3.676276e+12\n",
      "Europe           6.506971e+11\n",
      "North America    5.302389e+11\n",
      "Oceania          2.520139e+10\n",
      "South America    3.797371e+11\n",
      "Name: total_vaccinations, dtype: float64\n"
     ]
    }
   ],
   "source": [
    "vaccinations_per_continent = dataset[dataset['continent'].notnull()].groupby('continent')['total_vaccinations'].sum()\n",
    "print(\"Vaccinazioni totali per continente:\")\n",
    "print(vaccinations_per_continent)\n"
   ]
  },
  {
   "cell_type": "code",
   "execution_count": 13,
   "id": "6968b907-0911-49bf-b1e6-d31babdca1c9",
   "metadata": {},
   "outputs": [
    {
     "ename": "NameError",
     "evalue": "name 'cases_statistics' is not defined",
     "output_type": "error",
     "traceback": [
      "\u001b[1;31m---------------------------------------------------------------------------\u001b[0m",
      "\u001b[1;31mNameError\u001b[0m                                 Traceback (most recent call last)",
      "Cell \u001b[1;32mIn[13], line 1\u001b[0m\n\u001b[1;32m----> 1\u001b[0m eu_cases \u001b[38;5;241m=\u001b[39m \u001b[43mcases_statistics\u001b[49m\u001b[38;5;241m.\u001b[39mloc[\u001b[38;5;124m'\u001b[39m\u001b[38;5;124mcount\u001b[39m\u001b[38;5;124m'\u001b[39m, continent1]\n\u001b[0;32m      2\u001b[0m sa_cases \u001b[38;5;241m=\u001b[39m cases_statistics\u001b[38;5;241m.\u001b[39mloc[\u001b[38;5;124m'\u001b[39m\u001b[38;5;124mcount\u001b[39m\u001b[38;5;124m'\u001b[39m, continent2]\n\u001b[0;32m      3\u001b[0m oceania_cases \u001b[38;5;241m=\u001b[39m cases_per_continent\u001b[38;5;241m.\u001b[39mget(\u001b[38;5;124m'\u001b[39m\u001b[38;5;124mOceania\u001b[39m\u001b[38;5;124m'\u001b[39m, \u001b[38;5;241m0\u001b[39m)\n",
      "\u001b[1;31mNameError\u001b[0m: name 'cases_statistics' is not defined"
     ]
    }
   ],
   "source": [
    "eu_cases = cases_statistics.loc['count', continent1]\n",
    "sa_cases = cases_statistics.loc['count', continent2]\n",
    "oceania_cases = cases_per_continent.get('Oceania', 0)\n",
    "\n",
    "eu_vaccinations = vaccinations_per_continent.get(continent1, 0)\n",
    "sa_vaccinations = vaccinations_per_continent.get(continent2, 0)\n",
    "oceania_vaccinations = vaccinations_per_continent.get('Oceania', 0)\n",
    "\n",
    "summary = \"L'Europa ha registrato {} casi di COVID-19, il Sud America ha registrato {} casi, mentre l'Oceania ha registrato {} casi. Per quanto riguarda le vaccinazioni, l'Europa ha effettuato {} vaccinazioni, il Sud America ha effettuato {} vaccinazioni e l'Oceania ha effettuato {} vaccinazioni.\".format(eu_cases, sa_cases, oceania_cases, eu_vaccinations, sa_vaccinations, oceania_vaccinations)\n",
    "\n",
    "print(summary)\n"
   ]
  },
  {
   "cell_type": "code",
   "execution_count": null,
   "id": "11d2990a-f4fc-471a-ab92-7cc8a3b2530a",
   "metadata": {},
   "outputs": [],
   "source": []
  }
 ],
 "metadata": {
  "kernelspec": {
   "display_name": "Python 3 (ipykernel)",
   "language": "python",
   "name": "python3"
  },
  "language_info": {
   "codemirror_mode": {
    "name": "ipython",
    "version": 3
   },
   "file_extension": ".py",
   "mimetype": "text/x-python",
   "name": "python",
   "nbconvert_exporter": "python",
   "pygments_lexer": "ipython3",
   "version": "3.10.9"
  }
 },
 "nbformat": 4,
 "nbformat_minor": 5
}
